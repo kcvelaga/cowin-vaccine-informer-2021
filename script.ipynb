{
 "cells": [
  {
   "cell_type": "markdown",
   "metadata": {},
   "source": [
    "### Introduction\n",
    "On 19 April 2020, the Government of India annouced the third phase of vaccination programme would begin on 1 May, and for first time, all residents above the age of 18 would be eligible. However, even after six weeks of third phase's inception, it had been quite hard to find a vaccination slot. This has also been widely reported in media, for example, such as [this article on The Times of India](https://timesofindia.indiatimes.com/city/delhi/fastest-fingers-first-not-enough-to-get-vax-slot-those-in-18-44-age-group-find-it-difficult-to-get-vaccination-appointments-on-co-win/articleshow/82508435.cms) and [this article on the Print](https://theprint.in/health/struggling-to-find-an-open-covid-vaccination-slot-on-cowin-get-help-from-these-websites-apps/654013/). \n",
    "\n",
    "### Approach\n",
    "This notebook contains a small script that would check for availability of vaccine through the [public API of CoWIN](https://apisetu.gov.in/api/cowin) every five to ten seconds on a designated day and for designated centers, and using [fast2sms](https://www.fast2sms.com/) API, it would send a text message to given mobile numbers.\n",
    "\n",
    "The script was originally intended to scale up for people to register requests for their respective or vaccination centers nearby, in form of a web application - this plan was not pursued as the vaccination availability became easier in a couple of weeks after this was developed."
   ]
  },
  {
   "cell_type": "code",
   "execution_count": 1,
   "metadata": {},
   "outputs": [],
   "source": [
    "# importing necessary libraries\n",
    "import requests\n",
    "import re\n",
    "import json\n",
    "import urllib.request as ur\n",
    "import urllib.parse\n",
    "import time"
   ]
  },
  {
   "cell_type": "code",
   "execution_count": 2,
   "metadata": {},
   "outputs": [],
   "source": [
    "# date and vaccination centers\n",
    "date = '17-06-2021'\n",
    "centers = ['701334','726994', '567129', '600123', '571481', \n",
    "           '608100', '604233', '600075', '599446', '572009']"
   ]
  },
  {
   "cell_type": "code",
   "execution_count": null,
   "metadata": {},
   "outputs": [],
   "source": [
    "# main script to check CoWIN website and trigger an SMS\n",
    "while 1:\n",
    "    for c_id in centers:\n",
    "        try:\n",
    "            \n",
    "            # checking CoWIN through the public API\n",
    "            url = 'https://cdn-api.co-vin.in/api/v2/appointment/sessions/public/calendarByCenter?center_id='+c_id+'&date='+date\n",
    "            response = ur.urlopen(url)\n",
    "            jsonData = json.loads(response.read())\n",
    "            hospital = jsonData['centers']['name']\n",
    "            city = jsonData['centers']['block_name']\n",
    "            hc = hospital+city\n",
    "            hc = urllib.parse.quote(hc)\n",
    "            sessions = jsonData['centers']['sessions']\n",
    "            \n",
    "            # looping through the results and SMS triggers\n",
    "            for entry in sessions:\n",
    "                ageLimit = entry['min_age_limit']\n",
    "                vaccine = entry['vaccine']\n",
    "                fDoseAvail = entry['available_capacity_dose1']\n",
    "                if ageLimit == 18:\n",
    "                    if vaccine == 'COVISHIELD':\n",
    "                        if fDoseAvail > 0:\n",
    "                            print('ALERT: COVISHIELD available for 18+', hospital, city)\n",
    "                            smsTrigger = 'https://www.fast2sms.com/dev/bulkV2?authorization=***&route=q&message=COVISHEILD%20Slots%20open%20for%2018yrs%20at%20'+hc+'&flash=0&numbers=***'\n",
    "                            smsResponse = ur.urlopen(smsTrigger)\n",
    "                            jsonDataSMS = json.loads(smsResponse.read())\n",
    "                            print(jsonDataSMS['message'][0])\n",
    "                    elif vaccine == 'COVAXIN':\n",
    "                        if fDoseAvail > 0:\n",
    "                            print('ALERT: COVAXIN available for 18+', hospital, city)\n",
    "                            smsTrigger = 'https://www.fast2sms.com/dev/bulkV2?authorization=***&route=q&message=COVAXIN%20Slots%20open%20for%2018yrs%20at%20'+hc+'&flash=0&numbers=***'\n",
    "                            smsResponse = ur.urlopen(smsTrigger)\n",
    "                            jsonDataSMS = json.loads(smsResponse.read())\n",
    "                            print(jsonDataSMS['message'][0])\n",
    "                elif ageLimit == 45:\n",
    "                    if vaccine == 'COVISHIELD':\n",
    "                        if fDoseAvail > 0:\n",
    "                            print('ALERT: COVISHIELD available for 45+', hospital, city)\n",
    "                            smsTrigger = 'https://www.fast2sms.com/dev/bulkV2?authorization=***&route=q&message=COVISHEILD%20Slots%20open%20for%2045yrs%20at%20'+hc+'&flash=0&numbers=***'\n",
    "                            smsResponse = ur.urlopen(smsTrigger)\n",
    "                            jsonDataSMS = json.loads(smsResponse.read())\n",
    "                            print(jsonDataSMS['message'][0])\n",
    "                    elif vaccine == 'COVAXIN':\n",
    "                        if fDoseAvail > 0:\n",
    "                            print('ALERT: COVAXIN available for 45+', hospital, city)\n",
    "                            smsTrigger = 'https://www.fast2sms.com/dev/bulkV2?authorization=***&route=q&message=COVAXIN%20Slots%20open%20for%2045yrs%20at%20'+hc+'&flash=0&numbers=***'\n",
    "                            smsResponse = ur.urlopen(smsTrigger)\n",
    "                            jsonDataSMS = json.loads(smsResponse.read())\n",
    "                            print(jsonDataSMS['message'][0])\n",
    "            \n",
    "            # controlling the loop speed\n",
    "            time.sleep(5)\n",
    "        except:\n",
    "            time.sleep(10)\n",
    "            pass"
   ]
  }
 ],
 "metadata": {
  "kernelspec": {
   "display_name": "Python 3 (ipykernel)",
   "language": "python",
   "name": "python3"
  },
  "language_info": {
   "codemirror_mode": {
    "name": "ipython",
    "version": 3
   },
   "file_extension": ".py",
   "mimetype": "text/x-python",
   "name": "python",
   "nbconvert_exporter": "python",
   "pygments_lexer": "ipython3",
   "version": "3.8.8"
  }
 },
 "nbformat": 4,
 "nbformat_minor": 4
}
